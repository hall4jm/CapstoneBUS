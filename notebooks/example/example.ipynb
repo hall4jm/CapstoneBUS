{
  "nbformat": 4,
  "nbformat_minor": 0,
  "metadata": {
    "accelerator": "GPU",
    "colab": {
      "name": "Tuning.ipynb",
      "provenance": [],
      "collapsed_sections": []
    },
    "kernelspec": {
      "display_name": "Python 3",
      "name": "python3"
    },
    "language_info": {
      "name": "python"
    }
  },
  "cells": [
    {
      "cell_type": "code",
      "metadata": {
        "id": "FsExMCqJzptA"
      },
      "source": [
        "%%capture\n",
        "!pip install --quiet fastai==2.4\n",
        "!pip install --quiet optuna\n",
        "!pip install --quiet neptune-client[optuna]\n",
        "!pip install --quiet neptune-client[fastai]==2.4\n",
        "!pip install --quiet torch --upgrade\n",
        "!pip install json"
      ],
      "execution_count": null,
      "outputs": []
    },
    {
      "cell_type": "code",
      "metadata": {
        "id": "HVT0JE4kf7uN"
      },
      "source": [
        "#@title Colab-ssh tunnel\n",
        "#@markdown Execute this cell to open the ssh tunnel.\n",
        "\n",
        "# Install colab_ssh on google colab\n",
        "!pip install colab_ssh --upgrade\n",
        "\n",
        "from colab_ssh import launch_ssh_cloudflared, init_git_cloudflared\n",
        "ssh_tunnel_password = \"YOUR PASSWORD\" #@param {type: \"string\"}\n",
        "launch_ssh_cloudflared(password=ssh_tunnel_password)"
      ],
      "execution_count": null,
      "outputs": []
    },
    {
      "cell_type": "code",
      "metadata": {
        "id": "ECu7XMqZ0QeQ"
      },
      "source": [
        "!python -W ignore /content/drive/MyDrive/train.py -c '/content/drive/MyDrive/config.json'"
      ],
      "execution_count": null,
      "outputs": []
    }
  ]
}